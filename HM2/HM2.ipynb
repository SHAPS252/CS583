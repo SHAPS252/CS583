{
 "cells": [
  {
   "cell_type": "markdown",
   "metadata": {},
   "source": [
    "# HM2: Numerical Optimization for Logistic Regression.\n",
    "\n",
    "### Name: Daniel Shapiro\n"
   ]
  },
  {
   "cell_type": "markdown",
   "metadata": {},
   "source": [
    "## 0. You will do the following:\n",
    "\n",
    "1. Read the lecture note: [click here](https://github.com/wangshusen/DeepLearning/blob/master/LectureNotes/Logistic/paper/logistic.pdf)\n",
    "\n",
    "2. Read, complete, and run my code.\n",
    "\n",
    "3. **Implement mini-batch SGD** and evaluate the performance.\n",
    "\n",
    "4. Convert the .IPYNB file to .HTML file.\n",
    "\n",
    "    * The HTML file must contain **the code** and **the output after execution**.\n",
    "    \n",
    "    * Missing **the output after execution** will not be graded.\n",
    "    \n",
    "5. Upload this .HTML file to your Google Drive, Dropbox, or your Github repo.  (If you submit the file to Google Drive or Dropbox, you must make the file \"open-access\". The delay caused by \"deny of access\" may result in late penalty.)\n",
    "\n",
    "6. Submit the link to this .HTML file to Canvas.\n",
    "\n",
    "    * Example: https://github.com/wangshusen/CS583-2020S/blob/master/homework/HM2/HM2.html\n",
    "\n",
    "\n",
    "## Grading criteria:\n",
    "\n",
    "1. When computing the ```gradient``` and ```objective function value``` using a batch of samples, use **matrix-vector multiplication** rather than a FOR LOOP of **vector-vector multiplications**.\n",
    "\n",
    "2. Plot ```objective function value``` against ```epochs```. In the plot, compare GD, SGD, and MB-SGD (with $b=8$ and $b=64$). The plot must look reasonable."
   ]
  },
  {
   "cell_type": "code",
   "execution_count": null,
   "metadata": {},
   "outputs": [],
   "source": []
  },
  {
   "cell_type": "markdown",
   "metadata": {},
   "source": [
    "# 1. Data processing\n",
    "\n",
    "- Download the Diabete dataset from https://www.csie.ntu.edu.tw/~cjlin/libsvmtools/datasets/binary/diabetes\n",
    "- Load the data using sklearn.\n",
    "- Preprocess the data."
   ]
  },
  {
   "cell_type": "markdown",
   "metadata": {},
   "source": [
    "## 1.1. Load the data"
   ]
  },
  {
   "cell_type": "code",
   "execution_count": 26,
   "metadata": {},
   "outputs": [
    {
     "name": "stdout",
     "output_type": "stream",
     "text": [
      "Shape of x: (768, 8)\n",
      "Shape of y: (768,)\n"
     ]
    }
   ],
   "source": [
    "from sklearn import datasets\n",
    "import numpy\n",
    "\n",
    "x_sparse, y = datasets.load_svmlight_file('diabetes')\n",
    "x = x_sparse.todense()\n",
    "\n",
    "print('Shape of x: ' + str(x.shape))\n",
    "print('Shape of y: ' + str(y.shape))"
   ]
  },
  {
   "cell_type": "markdown",
   "metadata": {},
   "source": [
    "## 1.2. Partition to training and test sets"
   ]
  },
  {
   "cell_type": "code",
   "execution_count": 27,
   "metadata": {},
   "outputs": [
    {
     "name": "stdout",
     "output_type": "stream",
     "text": [
      "Shape of x_train: (640, 8)\n",
      "Shape of x_test: (128, 8)\n",
      "Shape of y_train: (640, 1)\n",
      "Shape of y_test: (128, 1)\n"
     ]
    }
   ],
   "source": [
    "# partition the data to training and test sets\n",
    "n = x.shape[0]\n",
    "n_train = 640\n",
    "n_test = n - n_train\n",
    "\n",
    "rand_indices = numpy.random.permutation(n)\n",
    "train_indices = rand_indices[0:n_train]\n",
    "test_indices = rand_indices[n_train:n]\n",
    "\n",
    "x_train = x[train_indices, :]\n",
    "x_test = x[test_indices, :]\n",
    "y_train = y[train_indices].reshape(n_train, 1)\n",
    "y_test = y[test_indices].reshape(n_test, 1)\n",
    "\n",
    "print('Shape of x_train: ' + str(x_train.shape))\n",
    "print('Shape of x_test: ' + str(x_test.shape))\n",
    "print('Shape of y_train: ' + str(y_train.shape))\n",
    "print('Shape of y_test: ' + str(y_test.shape))"
   ]
  },
  {
   "cell_type": "markdown",
   "metadata": {},
   "source": [
    "## 1.3. Feature scaling"
   ]
  },
  {
   "cell_type": "markdown",
   "metadata": {},
   "source": [
    "Use the standardization to trainsform both training and test features"
   ]
  },
  {
   "cell_type": "code",
   "execution_count": 28,
   "metadata": {},
   "outputs": [
    {
     "name": "stdout",
     "output_type": "stream",
     "text": [
      "test mean = \n",
      "[[-0.07505276  0.09255293 -0.07398019 -0.11232807 -0.08043213  0.05212963\n",
      "  -0.05118294 -0.03655395]]\n",
      "test std = \n",
      "[[0.95052634 0.93704556 1.0032828  0.97386725 0.92751453 0.99355094\n",
      "  0.81501403 0.998261  ]]\n"
     ]
    }
   ],
   "source": [
    "# Standardization\n",
    "import numpy\n",
    "\n",
    "# calculate mu and sig using the training set\n",
    "d = x_train.shape[1]\n",
    "mu = numpy.mean(x_train, axis=0).reshape(1, d)\n",
    "sig = numpy.std(x_train, axis=0).reshape(1, d)\n",
    "\n",
    "# transform the training features\n",
    "x_train = (x_train - mu) / (sig + 1E-6)\n",
    "\n",
    "# transform the test features\n",
    "x_test = (x_test - mu) / (sig + 1E-6)\n",
    "\n",
    "print('test mean = ')\n",
    "print(numpy.mean(x_test, axis=0))\n",
    "\n",
    "print('test std = ')\n",
    "print(numpy.std(x_test, axis=0))"
   ]
  },
  {
   "cell_type": "markdown",
   "metadata": {},
   "source": [
    "## 1.4. Add a dimension of all ones"
   ]
  },
  {
   "cell_type": "code",
   "execution_count": 29,
   "metadata": {},
   "outputs": [
    {
     "name": "stdout",
     "output_type": "stream",
     "text": [
      "Shape of x_train: (640, 9)\n",
      "Shape of x_test: (128, 9)\n"
     ]
    }
   ],
   "source": [
    "n_train, d = x_train.shape\n",
    "x_train = numpy.concatenate((x_train, numpy.ones((n_train, 1))), axis=1)\n",
    "\n",
    "n_test, d = x_test.shape\n",
    "x_test = numpy.concatenate((x_test, numpy.ones((n_test, 1))), axis=1)\n",
    "\n",
    "print('Shape of x_train: ' + str(x_train.shape))\n",
    "print('Shape of x_test: ' + str(x_test.shape))"
   ]
  },
  {
   "cell_type": "markdown",
   "metadata": {},
   "source": [
    "# 2. Logistic regression model\n",
    "\n",
    "The objective function is $Q (w; X, y) = \\frac{1}{n} \\sum_{i=1}^n \\log \\Big( 1 + \\exp \\big( - y_i x_i^T w \\big) \\Big) + \\frac{\\lambda}{2} \\| w \\|_2^2 $."
   ]
  },
  {
   "cell_type": "code",
   "execution_count": 30,
   "metadata": {},
   "outputs": [],
   "source": [
    "# Calculate the objective function value\n",
    "# Inputs:\n",
    "#     w: d-by-1 matrix\n",
    "#     x: n-by-d matrix\n",
    "#     y: n-by-1 matrix\n",
    "#     lam: scalar, the regularization parameter\n",
    "# Return:\n",
    "#     objective function value (scalar)\n",
    "def objective(w, x, y, lam):\n",
    "    n, d = x.shape\n",
    "    yx = numpy.multiply(y, x) # n-by-d matrix\n",
    "    yxw = numpy.dot(yx, w) # n-by-1 matrix\n",
    "    vec1 = numpy.exp(-yxw) # n-by-1 matrix\n",
    "    vec2 = numpy.log(1 + vec1) # n-by-1 matrix\n",
    "    loss = numpy.mean(vec2) # scalar\n",
    "    reg = lam / 2 * numpy.sum(w * w) # scalar\n",
    "    return loss + reg\n",
    "    "
   ]
  },
  {
   "cell_type": "code",
   "execution_count": 31,
   "metadata": {},
   "outputs": [
    {
     "name": "stdout",
     "output_type": "stream",
     "text": [
      "Initial objective function value = 0.6931471805599453\n"
     ]
    }
   ],
   "source": [
    "# initialize w\n",
    "d = x_train.shape[1]\n",
    "w = numpy.zeros((d, 1))\n",
    "\n",
    "# evaluate the objective function value at w\n",
    "lam = 1E-6\n",
    "objval0 = objective(w, x_train, y_train, lam)\n",
    "print('Initial objective function value = ' + str(objval0))"
   ]
  },
  {
   "cell_type": "markdown",
   "metadata": {},
   "source": [
    "# 3. Numerical optimization"
   ]
  },
  {
   "cell_type": "markdown",
   "metadata": {},
   "source": [
    "## 3.1. Gradient descent\n"
   ]
  },
  {
   "cell_type": "markdown",
   "metadata": {},
   "source": [
    "The gradient at $w$ is $g = - \\frac{1}{n} \\sum_{i=1}^n \\frac{y_i x_i }{1 + \\exp ( y_i x_i^T w)} + \\lambda w$"
   ]
  },
  {
   "cell_type": "code",
   "execution_count": 32,
   "metadata": {},
   "outputs": [],
   "source": [
    "# Calculate the gradient\n",
    "# Inputs:\n",
    "#     w: d-by-1 matrix\n",
    "#     x: n-by-d matrix\n",
    "#     y: n-by-1 matrix\n",
    "#     lam: scalar, the regularization parameter\n",
    "# Return:\n",
    "#     g: g: d-by-1 matrix, full gradient\n",
    "def gradient(w, x, y, lam):\n",
    "    n, d = x.shape\n",
    "    yx = numpy.multiply(y, x) # n-by-d matrix\n",
    "    yxw = numpy.dot(yx, w) # n-by-1 matrix\n",
    "    vec1 = numpy.exp(yxw) # n-by-1 matrix\n",
    "    vec2 = numpy.divide(yx, 1+vec1) # n-by-d matrix\n",
    "    vec3 = -numpy.mean(vec2, axis=0).reshape(d, 1) # d-by-1 matrix\n",
    "    g = vec3 + lam * w\n",
    "    return g"
   ]
  },
  {
   "cell_type": "code",
   "execution_count": 33,
   "metadata": {},
   "outputs": [],
   "source": [
    "# Gradient descent for solving logistic regression\n",
    "# Inputs:\n",
    "#     x: n-by-d matrix\n",
    "#     y: n-by-1 matrix\n",
    "#     lam: scalar, the regularization parameter\n",
    "#     stepsize: scalar\n",
    "#     max_iter: integer, the maximal iterations\n",
    "#     w: d-by-1 matrix, initialization of w\n",
    "# Return:\n",
    "#     w: d-by-1 matrix, the solution\n",
    "#     objvals: a record of each iteration's objective value\n",
    "def grad_descent(x, y, lam, stepsize, max_iter=100, w=None):\n",
    "    n, d = x.shape\n",
    "    objvals = numpy.zeros(max_iter) # store the objective values\n",
    "    if w is None:\n",
    "        w = numpy.zeros((d, 1)) # zero initialization\n",
    "    \n",
    "    for t in range(max_iter):\n",
    "        objval = objective(w, x, y, lam)\n",
    "        objvals[t] = objval\n",
    "        print('Objective value at t=' + str(t) + ' is ' + str(objval))\n",
    "        g = gradient(w, x, y, lam)\n",
    "        w -= stepsize * g\n",
    "    \n",
    "    return w, objvals"
   ]
  },
  {
   "cell_type": "markdown",
   "metadata": {},
   "source": [
    "Run gradient descent."
   ]
  },
  {
   "cell_type": "code",
   "execution_count": 34,
   "metadata": {},
   "outputs": [
    {
     "name": "stdout",
     "output_type": "stream",
     "text": [
      "Objective value at t=0 is 0.6931471805599453\n",
      "Objective value at t=1 is 0.5933376563317798\n",
      "Objective value at t=2 is 0.5517879713370063\n",
      "Objective value at t=3 is 0.529146922426465\n",
      "Objective value at t=4 is 0.5149226386149459\n",
      "Objective value at t=5 is 0.5052599033816247\n",
      "Objective value at t=6 is 0.4983711159254522\n",
      "Objective value at t=7 is 0.4932955267945724\n",
      "Objective value at t=8 is 0.4894642895157393\n",
      "Objective value at t=9 is 0.4865175517219476\n",
      "Objective value at t=10 is 0.484216612201232\n",
      "Objective value at t=11 is 0.48239737824156914\n",
      "Objective value at t=12 is 0.48094383104149385\n",
      "Objective value at t=13 is 0.47977203687779985\n",
      "Objective value at t=14 is 0.4788200916182435\n",
      "Objective value at t=15 is 0.4780415777705031\n",
      "Objective value at t=16 is 0.47740118648462354\n",
      "Objective value at t=17 is 0.4768717182489622\n",
      "Objective value at t=18 is 0.47643198576894047\n",
      "Objective value at t=19 is 0.4760653210696088\n",
      "Objective value at t=20 is 0.47575849554394134\n",
      "Objective value at t=21 is 0.4755009273422472\n",
      "Objective value at t=22 is 0.47528409196688876\n",
      "Objective value at t=23 is 0.4751010787041219\n",
      "Objective value at t=24 is 0.47494625314201805\n",
      "Objective value at t=25 is 0.47481499782208875\n",
      "Objective value at t=26 is 0.4747035111003251\n",
      "Objective value at t=27 is 0.47460864983602197\n",
      "Objective value at t=28 is 0.47452780540536826\n",
      "Objective value at t=29 is 0.47445880528525763\n",
      "Objective value at t=30 is 0.4743998344233893\n",
      "Objective value at t=31 is 0.4743493720392897\n",
      "Objective value at t=32 is 0.47430614054725667\n",
      "Objective value at t=33 is 0.47426906406616887\n",
      "Objective value at t=34 is 0.4742372345588124\n",
      "Objective value at t=35 is 0.4742098840783505\n",
      "Objective value at t=36 is 0.47418636192975894\n",
      "Objective value at t=37 is 0.4741661158066215\n",
      "Objective value at t=38 is 0.47414867615830814\n",
      "Objective value at t=39 is 0.4741336431935329\n",
      "Objective value at t=40 is 0.47412067604418917\n",
      "Objective value at t=41 is 0.4741094837059697\n",
      "Objective value at t=42 is 0.4740998174454527\n",
      "Objective value at t=43 is 0.4740914644214633\n",
      "Objective value at t=44 is 0.4740842423149291\n",
      "Objective value at t=45 is 0.47407799479868584\n",
      "Objective value at t=46 is 0.4740725877086911\n",
      "Objective value at t=47 is 0.4740679058023968\n",
      "Objective value at t=48 is 0.4740638500097624\n",
      "Objective value at t=49 is 0.4740603350984919\n",
      "Objective value at t=50 is 0.4740572876882559\n",
      "Objective value at t=51 is 0.4740546445594851\n",
      "Objective value at t=52 is 0.474052351211239\n",
      "Objective value at t=53 is 0.4740503606300295\n",
      "Objective value at t=54 is 0.4740486322375843\n",
      "Objective value at t=55 is 0.47404713099061296\n",
      "Objective value at t=56 is 0.47404582660987266\n",
      "Objective value at t=57 is 0.47404469291935275\n",
      "Objective value at t=58 is 0.4740437072793646\n",
      "Objective value at t=59 is 0.4740428500997923\n",
      "Objective value at t=60 is 0.4740421044218486\n",
      "Objective value at t=61 is 0.47404145555843274\n",
      "Objective value at t=62 is 0.474040890784664\n",
      "Objective value at t=63 is 0.4740403990714173\n",
      "Objective value at t=64 is 0.474039970855741\n",
      "Objective value at t=65 is 0.4740395978429356\n",
      "Objective value at t=66 is 0.4740392728358302\n",
      "Objective value at t=67 is 0.47403898958743934\n",
      "Objective value at t=68 is 0.4740387426737343\n",
      "Objective value at t=69 is 0.4740385273837269\n",
      "Objective value at t=70 is 0.47403833962446645\n",
      "Objective value at t=71 is 0.47403817583888874\n",
      "Objective value at t=72 is 0.4740380329347485\n",
      "Objective value at t=73 is 0.4740379082231125\n",
      "Objective value at t=74 is 0.4740377993651075\n",
      "Objective value at t=75 is 0.47403770432579606\n",
      "Objective value at t=76 is 0.47403762133421234\n",
      "Objective value at t=77 is 0.47403754884872035\n",
      "Objective value at t=78 is 0.4740374855269792\n",
      "Objective value at t=79 is 0.47403743019988925\n",
      "Objective value at t=80 is 0.47403738184898797\n",
      "Objective value at t=81 is 0.4740373395868294\n",
      "Objective value at t=82 is 0.47403730263995103\n",
      "Objective value at t=83 is 0.4740372703340797\n",
      "Objective value at t=84 is 0.47403724208127995\n",
      "Objective value at t=85 is 0.474037217368787\n",
      "Objective value at t=86 is 0.4740371957492987\n",
      "Objective value at t=87 is 0.47403717683253616\n",
      "Objective value at t=88 is 0.4740371602779027\n",
      "Objective value at t=89 is 0.4740371457880997\n",
      "Objective value at t=90 is 0.47403713310356904\n",
      "Objective value at t=91 is 0.4740371219976586\n",
      "Objective value at t=92 is 0.47403711227241085\n",
      "Objective value at t=93 is 0.47403710375489805\n",
      "Objective value at t=94 is 0.47403709629402835\n",
      "Objective value at t=95 is 0.47403708975776476\n",
      "Objective value at t=96 is 0.4740370840307004\n",
      "Objective value at t=97 is 0.4740370790119464\n",
      "Objective value at t=98 is 0.4740370746132896\n",
      "Objective value at t=99 is 0.4740370707575868\n"
     ]
    }
   ],
   "source": [
    "lam = 1E-6\n",
    "stepsize = 1.0\n",
    "w, objvals_gd = grad_descent(x_train, y_train, lam, stepsize)"
   ]
  },
  {
   "cell_type": "markdown",
   "metadata": {},
   "source": [
    "## 3.2. Stochastic gradient descent (SGD)\n",
    "\n",
    "Define $Q_i (w) = \\log \\Big( 1 + \\exp \\big( - y_i x_i^T w \\big) \\Big) + \\frac{\\lambda}{2} \\| w \\|_2^2 $.\n",
    "\n",
    "The stochastic gradient at $w$ is $g_i = \\frac{\\partial Q_i }{ \\partial w} = -\\frac{y_i x_i }{1 + \\exp ( y_i x_i^T w)} + \\lambda w$."
   ]
  },
  {
   "cell_type": "code",
   "execution_count": 35,
   "metadata": {},
   "outputs": [],
   "source": [
    "# Calculate the objective Q_i and the gradient of Q_i\n",
    "# Inputs:\n",
    "#     w: d-by-1 matrix\n",
    "#     xi: 1-by-d matrix\n",
    "#     yi: scalar\n",
    "#     lam: scalar, the regularization parameter\n",
    "# Return:\n",
    "#     obj: scalar, the objective Q_i\n",
    "#     g: d-by-1 matrix, gradient of Q_i\n",
    "def stochastic_objective_gradient(w, xi, yi, lam):\n",
    "    d = xi.shape[0]\n",
    "    yx = yi * xi # 1-by-d matrix\n",
    "    yxw = float(numpy.dot(yx, w)) # scalar\n",
    "    \n",
    "    # calculate objective function Q_i\n",
    "    loss = numpy.log(1 + numpy.exp(-yxw)) # scalar\n",
    "    reg = lam / 2 * numpy.sum(w * w) # scalar\n",
    "    obj = loss + reg\n",
    "    \n",
    "    # calculate stochastic gradient\n",
    "    g_loss = -yx.T / (1 + numpy.exp(yxw)) # d-by-1 matrix\n",
    "    g = g_loss + lam * w # d-by-1 matrix\n",
    "    \n",
    "    return obj, g"
   ]
  },
  {
   "cell_type": "code",
   "execution_count": 36,
   "metadata": {},
   "outputs": [],
   "source": [
    "# SGD for solving logistic regression\n",
    "# Inputs:\n",
    "#     x: n-by-d matrix\n",
    "#     y: n-by-1 matrix\n",
    "#     lam: scalar, the regularization parameter\n",
    "#     stepsize: scalar\n",
    "#     max_epoch: integer, the maximal epochs\n",
    "#     w: d-by-1 matrix, initialization of w\n",
    "# Return:\n",
    "#     w: the solution\n",
    "#     objvals: record of each iteration's objective value\n",
    "def sgd(x, y, lam, stepsize, max_epoch=100, w=None):\n",
    "    n, d = x.shape\n",
    "    objvals = numpy.zeros(max_epoch) # store the objective values\n",
    "    if w is None:\n",
    "        w = numpy.zeros((d, 1)) # zero initialization\n",
    "    \n",
    "    for t in range(max_epoch):\n",
    "        # randomly shuffle the samples\n",
    "        rand_indices = numpy.random.permutation(n)\n",
    "        x_rand = x[rand_indices, :]\n",
    "        y_rand = y[rand_indices, :]\n",
    "        \n",
    "        objval = 0 # accumulate the objective values\n",
    "        for i in range(n):\n",
    "            xi = x_rand[i, :] # 1-by-d matrix\n",
    "            yi = float(y_rand[i, :]) # scalar\n",
    "            obj, g = stochastic_objective_gradient(w, xi, yi, lam)\n",
    "            objval += obj\n",
    "            w -= stepsize * g\n",
    "        \n",
    "        stepsize *= 0.9 # decrease step size\n",
    "        objval /= n\n",
    "        objvals[t] = objval\n",
    "        print('Objective value at epoch t=' + str(t) + ' is ' + str(objval))\n",
    "    \n",
    "    return w, objvals"
   ]
  },
  {
   "cell_type": "markdown",
   "metadata": {},
   "source": [
    "Run SGD."
   ]
  },
  {
   "cell_type": "code",
   "execution_count": 37,
   "metadata": {},
   "outputs": [
    {
     "name": "stdout",
     "output_type": "stream",
     "text": [
      "Objective value at epoch t=0 is 0.5322762624283358\n",
      "Objective value at epoch t=1 is 0.527226072616268\n",
      "Objective value at epoch t=2 is 0.5143483177296154\n",
      "Objective value at epoch t=3 is 0.520748751520603\n",
      "Objective value at epoch t=4 is 0.5122445005102465\n",
      "Objective value at epoch t=5 is 0.5006736556286122\n",
      "Objective value at epoch t=6 is 0.4986457882617089\n",
      "Objective value at epoch t=7 is 0.4960466451676667\n",
      "Objective value at epoch t=8 is 0.4979788960447332\n",
      "Objective value at epoch t=9 is 0.49502059700959167\n",
      "Objective value at epoch t=10 is 0.49067024056139114\n",
      "Objective value at epoch t=11 is 0.4933048119970215\n",
      "Objective value at epoch t=12 is 0.4868621463182957\n",
      "Objective value at epoch t=13 is 0.4878874212667875\n",
      "Objective value at epoch t=14 is 0.49161362582044943\n",
      "Objective value at epoch t=15 is 0.4867581918341025\n",
      "Objective value at epoch t=16 is 0.48599873843899993\n",
      "Objective value at epoch t=17 is 0.48412084170439906\n",
      "Objective value at epoch t=18 is 0.4840762705198244\n",
      "Objective value at epoch t=19 is 0.48372697768285056\n",
      "Objective value at epoch t=20 is 0.48165067432609965\n",
      "Objective value at epoch t=21 is 0.48039118645376566\n",
      "Objective value at epoch t=22 is 0.4805246867813187\n",
      "Objective value at epoch t=23 is 0.480473637074062\n",
      "Objective value at epoch t=24 is 0.4795171859034829\n",
      "Objective value at epoch t=25 is 0.47880809919361633\n",
      "Objective value at epoch t=26 is 0.4783323141570124\n",
      "Objective value at epoch t=27 is 0.4783445354204468\n",
      "Objective value at epoch t=28 is 0.4773759705438539\n",
      "Objective value at epoch t=29 is 0.477502304412893\n",
      "Objective value at epoch t=30 is 0.47717044941235925\n",
      "Objective value at epoch t=31 is 0.47684678140723397\n",
      "Objective value at epoch t=32 is 0.4764949839131739\n",
      "Objective value at epoch t=33 is 0.47617327608219207\n",
      "Objective value at epoch t=34 is 0.47608886972505715\n",
      "Objective value at epoch t=35 is 0.4758430284340854\n",
      "Objective value at epoch t=36 is 0.4756389232528605\n",
      "Objective value at epoch t=37 is 0.47555168952620297\n",
      "Objective value at epoch t=38 is 0.47531235831208873\n",
      "Objective value at epoch t=39 is 0.4752488206223763\n",
      "Objective value at epoch t=40 is 0.47514278660709214\n",
      "Objective value at epoch t=41 is 0.4750263609991885\n",
      "Objective value at epoch t=42 is 0.47491590814547946\n",
      "Objective value at epoch t=43 is 0.4748384924957386\n",
      "Objective value at epoch t=44 is 0.47476788051782687\n",
      "Objective value at epoch t=45 is 0.474684999006315\n",
      "Objective value at epoch t=46 is 0.4746303843277646\n",
      "Objective value at epoch t=47 is 0.47457132836108384\n",
      "Objective value at epoch t=48 is 0.4745171874415319\n",
      "Objective value at epoch t=49 is 0.4744652517148424\n",
      "Objective value at epoch t=50 is 0.4744272902395574\n",
      "Objective value at epoch t=51 is 0.4743868412952823\n",
      "Objective value at epoch t=52 is 0.4743537682815885\n",
      "Objective value at epoch t=53 is 0.474321201456244\n",
      "Objective value at epoch t=54 is 0.47429314676735607\n",
      "Objective value at epoch t=55 is 0.47426718426923353\n",
      "Objective value at epoch t=56 is 0.4742444480104876\n",
      "Objective value at epoch t=57 is 0.4742241569646065\n",
      "Objective value at epoch t=58 is 0.474205483300425\n",
      "Objective value at epoch t=59 is 0.47418867504846157\n",
      "Objective value at epoch t=60 is 0.4741732549957861\n",
      "Objective value at epoch t=61 is 0.47415999627825123\n",
      "Objective value at epoch t=62 is 0.47414782674065686\n",
      "Objective value at epoch t=63 is 0.47413682416946445\n",
      "Objective value at epoch t=64 is 0.4741268892286891\n",
      "Objective value at epoch t=65 is 0.47411800988236247\n",
      "Objective value at epoch t=66 is 0.4741098614182456\n",
      "Objective value at epoch t=67 is 0.4741026630459485\n",
      "Objective value at epoch t=68 is 0.47409607003819865\n",
      "Objective value at epoch t=69 is 0.47409026190581427\n",
      "Objective value at epoch t=70 is 0.4740849646584352\n",
      "Objective value at epoch t=71 is 0.4740802494635624\n",
      "Objective value at epoch t=72 is 0.4740759593076026\n",
      "Objective value at epoch t=73 is 0.474072112699198\n",
      "Objective value at epoch t=74 is 0.4740686411030087\n",
      "Objective value at epoch t=75 is 0.4740655169407068\n",
      "Objective value at epoch t=76 is 0.47406270518338145\n",
      "Objective value at epoch t=77 is 0.4740601798440459\n",
      "Objective value at epoch t=78 is 0.47405789978149093\n",
      "Objective value at epoch t=79 is 0.4740558516046846\n",
      "Objective value at epoch t=80 is 0.4740540031466799\n",
      "Objective value at epoch t=81 is 0.47405234623963094\n",
      "Objective value at epoch t=82 is 0.47405085344250447\n",
      "Objective value at epoch t=83 is 0.4740495075680423\n",
      "Objective value at epoch t=84 is 0.4740482965689316\n",
      "Objective value at epoch t=85 is 0.4740472082007264\n",
      "Objective value at epoch t=86 is 0.47404622789943557\n",
      "Objective value at epoch t=87 is 0.4740453440870258\n",
      "Objective value at epoch t=88 is 0.4740445513207181\n",
      "Objective value at epoch t=89 is 0.47404383692560403\n",
      "Objective value at epoch t=90 is 0.47404319345207446\n",
      "Objective value at epoch t=91 is 0.4740426144131817\n",
      "Objective value at epoch t=92 is 0.4740420934870384\n",
      "Objective value at epoch t=93 is 0.4740416247878497\n",
      "Objective value at epoch t=94 is 0.4740412022362639\n",
      "Objective value at epoch t=95 is 0.47404082262011793\n",
      "Objective value at epoch t=96 is 0.4740404805940258\n",
      "Objective value at epoch t=97 is 0.47404017291514455\n",
      "Objective value at epoch t=98 is 0.4740398960047189\n",
      "Objective value at epoch t=99 is 0.4740396467470241\n"
     ]
    }
   ],
   "source": [
    "lam = 1E-6\n",
    "stepsize = 0.1\n",
    "w, objvals_sgd = sgd(x_train, y_train, lam, stepsize)"
   ]
  },
  {
   "cell_type": "markdown",
   "metadata": {},
   "source": [
    "# 4. Compare GD with SGD\n",
    "\n",
    "Plot objective function values against epochs."
   ]
  },
  {
   "cell_type": "code",
   "execution_count": 38,
   "metadata": {},
   "outputs": [
    {
     "name": "stderr",
     "output_type": "stream",
     "text": [
      "/home/dan/.local/lib/python3.6/site-packages/ipykernel_launcher.py:9: MatplotlibDeprecationWarning: Case-insensitive properties were deprecated in 3.3 and support will be removed two minor releases later\n",
      "  if __name__ == '__main__':\n",
      "/home/dan/.local/lib/python3.6/site-packages/ipykernel_launcher.py:10: MatplotlibDeprecationWarning: Case-insensitive properties were deprecated in 3.3 and support will be removed two minor releases later\n",
      "  # Remove the CWD from sys.path while we load stuff.\n",
      "/home/dan/.local/lib/python3.6/site-packages/ipykernel_launcher.py:11: MatplotlibDeprecationWarning: Case-insensitive properties were deprecated in 3.3 and support will be removed two minor releases later\n",
      "  # This is added back by InteractiveShellApp.init_path()\n",
      "/home/dan/.local/lib/python3.6/site-packages/ipykernel_launcher.py:12: MatplotlibDeprecationWarning: Case-insensitive properties were deprecated in 3.3 and support will be removed two minor releases later\n",
      "  if sys.path[0] == '':\n",
      "/home/dan/.local/lib/python3.6/site-packages/ipykernel_launcher.py:13: MatplotlibDeprecationWarning: Case-insensitive properties were deprecated in 3.3 and support will be removed two minor releases later\n",
      "  del sys.path[0]\n",
      "/home/dan/.local/lib/python3.6/site-packages/ipykernel_launcher.py:14: MatplotlibDeprecationWarning: Case-insensitive properties were deprecated in 3.3 and support will be removed two minor releases later\n",
      "  \n"
     ]
    },
    {
     "data": {
      "image/png": "[encoded data removed]",
      "text/plain": [
       "<Figure size 432x288 with 1 Axes>"
      ]
     },
     "metadata": {
      "needs_background": "light"
     },
     "output_type": "display_data"
    }
   ],
   "source": [
    "import matplotlib.pyplot as plt\n",
    "%matplotlib inline\n",
    "\n",
    "fig = plt.figure(figsize=(6, 4))\n",
    "\n",
    "epochs_gd = range(len(objvals_gd))\n",
    "epochs_sgd = range(len(objvals_sgd))\n",
    "\n",
    "line0, = plt.plot(epochs_gd, objvals_gd, '--b', LineWidth=4)\n",
    "line1, = plt.plot(epochs_sgd, objvals_sgd, '-r', LineWidth=2)\n",
    "plt.xlabel('Epochs', FontSize=20)\n",
    "plt.ylabel('Objective Value', FontSize=20)\n",
    "plt.xticks(FontSize=16)\n",
    "plt.yticks(FontSize=16)\n",
    "plt.legend([line0, line1], ['GD', 'SGD'], fontsize=20)\n",
    "plt.tight_layout()\n",
    "plt.show()\n",
    "fig.savefig('compare_gd_sgd.pdf', format='pdf', dpi=1200)"
   ]
  },
  {
   "cell_type": "markdown",
   "metadata": {},
   "source": [
    "# 5. Prediction"
   ]
  },
  {
   "cell_type": "code",
   "execution_count": 39,
   "metadata": {},
   "outputs": [],
   "source": [
    "# Predict class label\n",
    "# Inputs:\n",
    "#     w: d-by-1 matrix\n",
    "#     X: m-by-d matrix\n",
    "# Return:\n",
    "#     f: m-by-1 matrix, the predictions\n",
    "def predict(w, X):\n",
    "    xw = numpy.dot(X, w)\n",
    "    f = numpy.sign(xw)\n",
    "    return f"
   ]
  },
  {
   "cell_type": "code",
   "execution_count": 40,
   "metadata": {},
   "outputs": [
    {
     "name": "stdout",
     "output_type": "stream",
     "text": [
      "Training classification error is 0.21875\n"
     ]
    }
   ],
   "source": [
    "# evaluate training error\n",
    "f_train = predict(w, x_train)\n",
    "diff = numpy.abs(f_train - y_train) / 2\n",
    "error_train = numpy.mean(diff)\n",
    "print('Training classification error is ' + str(error_train))"
   ]
  },
  {
   "cell_type": "code",
   "execution_count": 41,
   "metadata": {},
   "outputs": [
    {
     "name": "stdout",
     "output_type": "stream",
     "text": [
      "Test classification error is 0.203125\n"
     ]
    }
   ],
   "source": [
    "# evaluate test error\n",
    "f_test = predict(w, x_test)\n",
    "diff = numpy.abs(f_test - y_test) / 2\n",
    "error_test = numpy.mean(diff)\n",
    "print('Test classification error is ' + str(error_test))"
   ]
  },
  {
   "cell_type": "markdown",
   "metadata": {},
   "source": [
    "# 6. Mini-batch SGD (fill the code)\n",
    "\n"
   ]
  },
  {
   "cell_type": "markdown",
   "metadata": {},
   "source": [
    "## 6.1. Compute the objective $Q_I$ and its gradient using a batch of samples\n",
    "\n",
    "Define $Q_I (w) = \\frac{1}{b} \\sum_{i \\in I} \\log \\Big( 1 + \\exp \\big( - y_i x_i^T w \\big) \\Big) + \\frac{\\lambda}{2} \\| w \\|_2^2 $, where $I$ is a set containing $b$ indices randomly drawn from $\\{ 1, \\cdots , n \\}$ without replacement.\n",
    "\n",
    "The stochastic gradient at $w$ is $g_I = \\frac{\\partial Q_I }{ \\partial w} = \\frac{1}{b} \\sum_{i \\in I} \\frac{- y_i x_i }{1 + \\exp ( y_i x_i^T w)} + \\lambda w$."
   ]
  },
  {
   "cell_type": "code",
   "execution_count": 42,
   "metadata": {},
   "outputs": [],
   "source": [
    "# Calculate the objective Q_I and the gradient of Q_I\n",
    "# Inputs:\n",
    "#     w: d-by-1 matrix\n",
    "#     xi: b-by-d matrix\n",
    "#     yi: b-by-1 matrix\n",
    "#     lam: scalar, the regularization parameter\n",
    "#     b: integer, the batch size\n",
    "# Return:\n",
    "#     obj: scalar, the objective Q_i\n",
    "#     g: d-by-1 matrix, gradient of Q_i\n",
    "def mb_stochastic_objective_gradient(w, xi, yi, lam, b):\n",
    "    # Fill the function\n",
    "    # Follow the implementation of stochastic_objective_gradient\n",
    "    # Use matrix-vector multiplication; do not use FOR LOOP of vector-vector multiplications\n",
    "    d = xi.shape[1]\n",
    "    yx = numpy.multiply(yi, xi) # b-by-d matrix\n",
    "    yxw = (numpy.dot(yx, w)) # b-by-1 vector\n",
    "    \n",
    "    # calculate objective function Q_i\n",
    "    loss = numpy.mean(numpy.log(1 + numpy.exp(-yxw))) # scalar\n",
    "    reg = (lam / 2) * numpy.sum(w * w) # scalar\n",
    "    obj = loss + reg\n",
    "    \n",
    "    # calculate stochastic gradient\n",
    "    g_loss = numpy.mean(-yx / (1 + numpy.exp(yxw)), axis=0).reshape(d,1)\n",
    "    g = g_loss + lam * w\n",
    "    \n",
    "    return obj, g"
   ]
  },
  {
   "cell_type": "markdown",
   "metadata": {},
   "source": [
    "## 6.2. Implement mini-batch SGD\n",
    "\n",
    "Hints:\n",
    "1. In every epoch, randomly permute the $n$ samples (just like SGD).\n",
    "2. Each epoch has $\\frac{n}{b}$ iterations. In every iteration, use $b$ samples, and compute the gradient and objective using the ``mb_stochastic_objective_gradient`` function. In the next iteration, use the next $b$ samples, and so on.\n"
   ]
  },
  {
   "cell_type": "code",
   "execution_count": 43,
   "metadata": {},
   "outputs": [],
   "source": [
    "# Mini-Batch SGD for solving logistic regression\n",
    "# Inputs:\n",
    "#     x: n-by-d matrix\n",
    "#     y: n-by-1 matrix\n",
    "#     lam: scalar, the regularization parameter\n",
    "#     b: integer, the batch size\n",
    "#     stepsize: scalar\n",
    "#     max_epoch: integer, the maximal epochs\n",
    "#     w: d-by-1 matrix, initialization of w\n",
    "# Return:\n",
    "#     w: the solution\n",
    "#     objvals: record of each iteration's objective value\n",
    "def mb_sgd(x, y, lam, b, stepsize, max_epoch=100, w=None):\n",
    "    # Fill the function\n",
    "    # Follow the implementation of sgd\n",
    "    # Record one objective value per epoch (not per iteration!)\n",
    "    n,d = x.shape\n",
    "    objvals = numpy.zeros(max_epoch)\n",
    "    if w is None:\n",
    "        w = numpy.zeros((d,1))\n",
    "    \n",
    "    for t in range(max_epoch):\n",
    "        rand_indices = numpy.random.permutation(n)\n",
    "        x_rand = x[rand_indices, :]\n",
    "        y_rand = y[rand_indices, :]\n",
    "        \n",
    "        objval = 0\n",
    "        \n",
    "        for i in range(0,n,b):\n",
    "            xi = x_rand[i:i+b, :]\n",
    "            yi = (y_rand[i:i+b, :])\n",
    "            obj, g = mb_stochastic_objective_gradient(w, xi, yi, lam, b)\n",
    "            objval += obj\n",
    "            w -= stepsize * g\n",
    "            \n",
    "        stepsize *= 0.9\n",
    "        objval /= (n/b)\n",
    "        objvals[t] = objval\n",
    "        print(f'Objective value at epoch t={t} is {objval}')\n",
    "    \n",
    "    return w, objvals"
   ]
  },
  {
   "cell_type": "markdown",
   "metadata": {},
   "source": [
    "## 6.3. Run MB-SGD"
   ]
  },
  {
   "cell_type": "code",
   "execution_count": 44,
   "metadata": {},
   "outputs": [
    {
     "name": "stdout",
     "output_type": "stream",
     "text": [
      "Objective value at epoch t=0 is 0.549514360494335\n",
      "Objective value at epoch t=1 is 0.491275675353091\n",
      "Objective value at epoch t=2 is 0.4847905363103058\n",
      "Objective value at epoch t=3 is 0.48131282255753727\n",
      "Objective value at epoch t=4 is 0.4792898776413156\n",
      "Objective value at epoch t=5 is 0.4795898643092171\n",
      "Objective value at epoch t=6 is 0.47869170758295604\n",
      "Objective value at epoch t=7 is 0.4786981876675623\n",
      "Objective value at epoch t=8 is 0.47770355703632006\n",
      "Objective value at epoch t=9 is 0.47758493249207845\n",
      "Objective value at epoch t=10 is 0.47694479608592266\n",
      "Objective value at epoch t=11 is 0.4771164655843515\n",
      "Objective value at epoch t=12 is 0.4765438224052222\n",
      "Objective value at epoch t=13 is 0.47645168814817485\n",
      "Objective value at epoch t=14 is 0.4758584436625891\n",
      "Objective value at epoch t=15 is 0.4759568182771295\n",
      "Objective value at epoch t=16 is 0.47566611946052556\n",
      "Objective value at epoch t=17 is 0.47560301514039677\n",
      "Objective value at epoch t=18 is 0.47540139316163776\n",
      "Objective value at epoch t=19 is 0.4752762997628349\n",
      "Objective value at epoch t=20 is 0.47505762096959303\n",
      "Objective value at epoch t=21 is 0.47506346615254047\n",
      "Objective value at epoch t=22 is 0.47500283893608825\n",
      "Objective value at epoch t=23 is 0.47481698363631375\n",
      "Objective value at epoch t=24 is 0.47484442938772603\n",
      "Objective value at epoch t=25 is 0.4746396359392476\n",
      "Objective value at epoch t=26 is 0.47468411610935063\n",
      "Objective value at epoch t=27 is 0.4745698524432805\n",
      "Objective value at epoch t=28 is 0.4745578176148294\n",
      "Objective value at epoch t=29 is 0.47448939662018885\n",
      "Objective value at epoch t=30 is 0.47444409990233555\n",
      "Objective value at epoch t=31 is 0.4744131551784408\n",
      "Objective value at epoch t=32 is 0.4743713411619549\n",
      "Objective value at epoch t=33 is 0.474303618893084\n",
      "Objective value at epoch t=34 is 0.47430640623126974\n",
      "Objective value at epoch t=35 is 0.47428706363157236\n",
      "Objective value at epoch t=36 is 0.474239328712098\n",
      "Objective value at epoch t=37 is 0.47421315728153307\n",
      "Objective value at epoch t=38 is 0.47420870993157627\n",
      "Objective value at epoch t=39 is 0.4741871365362912\n",
      "Objective value at epoch t=40 is 0.47417402372580925\n",
      "Objective value at epoch t=41 is 0.4741625110395799\n",
      "Objective value at epoch t=42 is 0.4741485834568618\n",
      "Objective value at epoch t=43 is 0.4741426391698382\n",
      "Objective value at epoch t=44 is 0.47411387789631415\n",
      "Objective value at epoch t=45 is 0.4741236270375362\n",
      "Objective value at epoch t=46 is 0.4741120519666393\n",
      "Objective value at epoch t=47 is 0.47410519667128614\n",
      "Objective value at epoch t=48 is 0.4740950153843073\n",
      "Objective value at epoch t=49 is 0.47408950724851107\n",
      "Objective value at epoch t=50 is 0.47408129374842123\n",
      "Objective value at epoch t=51 is 0.474081246498674\n",
      "Objective value at epoch t=52 is 0.47407979027061514\n",
      "Objective value at epoch t=53 is 0.4740729147308575\n",
      "Objective value at epoch t=54 is 0.4740692144559203\n",
      "Objective value at epoch t=55 is 0.47406693427855523\n",
      "Objective value at epoch t=56 is 0.47406323551346913\n",
      "Objective value at epoch t=57 is 0.47406106781723906\n",
      "Objective value at epoch t=58 is 0.4740583863686562\n",
      "Objective value at epoch t=59 is 0.4740583160410036\n",
      "Objective value at epoch t=60 is 0.47405442410163134\n",
      "Objective value at epoch t=61 is 0.4740541156054362\n",
      "Objective value at epoch t=62 is 0.47405190358658766\n",
      "Objective value at epoch t=63 is 0.47405015200873646\n",
      "Objective value at epoch t=64 is 0.4740492820993354\n",
      "Objective value at epoch t=65 is 0.47404819454492664\n",
      "Objective value at epoch t=66 is 0.4740472280073263\n",
      "Objective value at epoch t=67 is 0.4740467432375285\n",
      "Objective value at epoch t=68 is 0.47404573925076293\n",
      "Objective value at epoch t=69 is 0.4740449675832158\n",
      "Objective value at epoch t=70 is 0.47404386116999264\n",
      "Objective value at epoch t=71 is 0.47404349381378497\n",
      "Objective value at epoch t=72 is 0.4740433125032596\n",
      "Objective value at epoch t=73 is 0.47404257156351964\n",
      "Objective value at epoch t=74 is 0.47404195264097987\n",
      "Objective value at epoch t=75 is 0.4740418241804559\n",
      "Objective value at epoch t=76 is 0.47404142577898256\n",
      "Objective value at epoch t=77 is 0.47404077575896447\n",
      "Objective value at epoch t=78 is 0.4740409611600317\n",
      "Objective value at epoch t=79 is 0.47404065948793345\n",
      "Objective value at epoch t=80 is 0.474040348684673\n",
      "Objective value at epoch t=81 is 0.47404029825093696\n",
      "Objective value at epoch t=82 is 0.47404013716671384\n",
      "Objective value at epoch t=83 is 0.47403968553340536\n",
      "Objective value at epoch t=84 is 0.47403964593115555\n",
      "Objective value at epoch t=85 is 0.4740393953363829\n",
      "Objective value at epoch t=86 is 0.47403937766286475\n",
      "Objective value at epoch t=87 is 0.4740392428938886\n",
      "Objective value at epoch t=88 is 0.4740391627594465\n",
      "Objective value at epoch t=89 is 0.4740391581534821\n",
      "Objective value at epoch t=90 is 0.47403902208135057\n",
      "Objective value at epoch t=91 is 0.47403895994765055\n",
      "Objective value at epoch t=92 is 0.47403886755797275\n",
      "Objective value at epoch t=93 is 0.47403878290312473\n",
      "Objective value at epoch t=94 is 0.4740387565666279\n",
      "Objective value at epoch t=95 is 0.4740387207685742\n",
      "Objective value at epoch t=96 is 0.47403866371587783\n",
      "Objective value at epoch t=97 is 0.4740386209269647\n",
      "Objective value at epoch t=98 is 0.4740386003015171\n",
      "Objective value at epoch t=99 is 0.4740385446063856\n"
     ]
    }
   ],
   "source": [
    "# MB-SGD with batch size b=8\n",
    "lam = 1E-6 # do not change\n",
    "b = 8 # do not change\n",
    "stepsize = 0.1 # you must tune this parameter\n",
    "\n",
    "w, objvals_mbsgd8 = mb_sgd(x_train, y_train, lam, b, stepsize)"
   ]
  },
  {
   "cell_type": "code",
   "execution_count": 54,
   "metadata": {
    "scrolled": true
   },
   "outputs": [
    {
     "name": "stdout",
     "output_type": "stream",
     "text": [
      "Objective value at epoch t=0 is 0.5445606965797383\n",
      "Objective value at epoch t=1 is 0.492278552804356\n",
      "Objective value at epoch t=2 is 0.483766171167899\n",
      "Objective value at epoch t=3 is 0.48000956281224233\n",
      "Objective value at epoch t=4 is 0.47951451479748375\n",
      "Objective value at epoch t=5 is 0.4786208944962372\n",
      "Objective value at epoch t=6 is 0.47833335025324714\n",
      "Objective value at epoch t=7 is 0.4782429541004742\n",
      "Objective value at epoch t=8 is 0.47799646263616\n",
      "Objective value at epoch t=9 is 0.47648196968172646\n",
      "Objective value at epoch t=10 is 0.4771964597110965\n",
      "Objective value at epoch t=11 is 0.47675779927862916\n",
      "Objective value at epoch t=12 is 0.47621205540333456\n",
      "Objective value at epoch t=13 is 0.4762896672994047\n",
      "Objective value at epoch t=14 is 0.47630583671732785\n",
      "Objective value at epoch t=15 is 0.475563918441633\n",
      "Objective value at epoch t=16 is 0.4758692690927992\n",
      "Objective value at epoch t=17 is 0.47566753875803647\n",
      "Objective value at epoch t=18 is 0.4753897878411558\n",
      "Objective value at epoch t=19 is 0.47483635885375375\n",
      "Objective value at epoch t=20 is 0.47498544831296463\n",
      "Objective value at epoch t=21 is 0.4750354145504406\n",
      "Objective value at epoch t=22 is 0.47505480393467625\n",
      "Objective value at epoch t=23 is 0.47503326837430737\n",
      "Objective value at epoch t=24 is 0.47459067839407715\n",
      "Objective value at epoch t=25 is 0.4747683314576415\n",
      "Objective value at epoch t=26 is 0.47455303176883\n",
      "Objective value at epoch t=27 is 0.4746067455394087\n",
      "Objective value at epoch t=28 is 0.47444852886769706\n",
      "Objective value at epoch t=29 is 0.4744972838669839\n",
      "Objective value at epoch t=30 is 0.4745637101197073\n",
      "Objective value at epoch t=31 is 0.4743365796405633\n",
      "Objective value at epoch t=32 is 0.4743979339815989\n",
      "Objective value at epoch t=33 is 0.4742299713977888\n",
      "Objective value at epoch t=34 is 0.4742813434404719\n",
      "Objective value at epoch t=35 is 0.47428033721235136\n",
      "Objective value at epoch t=36 is 0.47423693185131066\n",
      "Objective value at epoch t=37 is 0.4742121831002907\n",
      "Objective value at epoch t=38 is 0.47421683138834697\n",
      "Objective value at epoch t=39 is 0.47416901800838457\n",
      "Objective value at epoch t=40 is 0.4741554844408853\n",
      "Objective value at epoch t=41 is 0.47415508722642113\n",
      "Objective value at epoch t=42 is 0.4741004690381997\n",
      "Objective value at epoch t=43 is 0.4741155641638567\n",
      "Objective value at epoch t=44 is 0.47410850653920156\n",
      "Objective value at epoch t=45 is 0.47411093861868164\n",
      "Objective value at epoch t=46 is 0.4741165016767657\n",
      "Objective value at epoch t=47 is 0.474106007651452\n",
      "Objective value at epoch t=48 is 0.4740981090211414\n",
      "Objective value at epoch t=49 is 0.4741046090675006\n",
      "Objective value at epoch t=50 is 0.47407670423256293\n",
      "Objective value at epoch t=51 is 0.4740768002417711\n",
      "Objective value at epoch t=52 is 0.47407123153137104\n",
      "Objective value at epoch t=53 is 0.47407028828920855\n",
      "Objective value at epoch t=54 is 0.4740617707120583\n",
      "Objective value at epoch t=55 is 0.47406078308770416\n",
      "Objective value at epoch t=56 is 0.47406096473186193\n",
      "Objective value at epoch t=57 is 0.4740618446775683\n",
      "Objective value at epoch t=58 is 0.474056337901558\n",
      "Objective value at epoch t=59 is 0.4740571577979469\n",
      "Objective value at epoch t=60 is 0.47405555045971076\n",
      "Objective value at epoch t=61 is 0.4740495326135914\n",
      "Objective value at epoch t=62 is 0.47404982665673545\n",
      "Objective value at epoch t=63 is 0.4740469121184181\n",
      "Objective value at epoch t=64 is 0.474048856475848\n",
      "Objective value at epoch t=65 is 0.47404588856680574\n",
      "Objective value at epoch t=66 is 0.4740453527932081\n",
      "Objective value at epoch t=67 is 0.4740452405442199\n",
      "Objective value at epoch t=68 is 0.47404841809947024\n",
      "Objective value at epoch t=69 is 0.4740437079889411\n",
      "Objective value at epoch t=70 is 0.47404372524572735\n",
      "Objective value at epoch t=71 is 0.47404117443380434\n",
      "Objective value at epoch t=72 is 0.4740414486917661\n",
      "Objective value at epoch t=73 is 0.47404130736322453\n",
      "Objective value at epoch t=74 is 0.47404185311768476\n",
      "Objective value at epoch t=75 is 0.47404085278042996\n",
      "Objective value at epoch t=76 is 0.4740407237700869\n",
      "Objective value at epoch t=77 is 0.4740406992132142\n",
      "Objective value at epoch t=78 is 0.4740407935158542\n",
      "Objective value at epoch t=79 is 0.47404032311046806\n",
      "Objective value at epoch t=80 is 0.4740396347720714\n",
      "Objective value at epoch t=81 is 0.47403952185821535\n",
      "Objective value at epoch t=82 is 0.4740392623471699\n",
      "Objective value at epoch t=83 is 0.4740393350783757\n",
      "Objective value at epoch t=84 is 0.47403909672330646\n",
      "Objective value at epoch t=85 is 0.47403865395773775\n",
      "Objective value at epoch t=86 is 0.4740387243699666\n",
      "Objective value at epoch t=87 is 0.4740385602574528\n",
      "Objective value at epoch t=88 is 0.4740382732948142\n",
      "Objective value at epoch t=89 is 0.47403828499939327\n",
      "Objective value at epoch t=90 is 0.4740386361474389\n",
      "Objective value at epoch t=91 is 0.4740383327198959\n",
      "Objective value at epoch t=92 is 0.47403814685530704\n",
      "Objective value at epoch t=93 is 0.47403823213097934\n",
      "Objective value at epoch t=94 is 0.474038182832508\n",
      "Objective value at epoch t=95 is 0.4740380558142331\n",
      "Objective value at epoch t=96 is 0.4740380334315463\n",
      "Objective value at epoch t=97 is 0.4740379825686061\n",
      "Objective value at epoch t=98 is 0.474037943868741\n",
      "Objective value at epoch t=99 is 0.4740379375640272\n"
     ]
    }
   ],
   "source": [
    "# MB-SGD with batch size b=64\n",
    "lam = 1E-6 # do not change\n",
    "b = 64 # do not change\n",
    "stepsize = 0.8 # you must tune this parameter\n",
    "\n",
    "w, objvals_mbsgd64 = mb_sgd(x_train, y_train, lam, b, stepsize)"
   ]
  },
  {
   "cell_type": "markdown",
   "metadata": {},
   "source": [
    "# 7. Plot and compare GD, SGD, and MB-SGD"
   ]
  },
  {
   "cell_type": "markdown",
   "metadata": {},
   "source": [
    "You are required to compare the following algorithms:\n",
    "\n",
    "- Gradient descent (GD)\n",
    "\n",
    "- SGD\n",
    "\n",
    "- MB-SGD with b=8\n",
    "\n",
    "- MB-SGD with b=64\n",
    "\n",
    "Follow the code in Section 4 to plot ```objective function value``` against ```epochs```. There should be four curves in the plot; each curve corresponds to one algorithm."
   ]
  },
  {
   "cell_type": "markdown",
   "metadata": {},
   "source": [
    "Hint: Logistic regression with $\\ell_2$-norm regularization is a strongly convex optimization problem. All the algorithms will converge to the same solution. **In the end, the ``objective function value`` of the 4 algorithms will be the same. If not the same, your implementation must be wrong. Do NOT submit wrong code and wrong result!**"
   ]
  },
  {
   "cell_type": "code",
   "execution_count": 55,
   "metadata": {},
   "outputs": [
    {
     "name": "stderr",
     "output_type": "stream",
     "text": [
      "/home/dan/.local/lib/python3.6/site-packages/ipykernel_launcher.py:11: MatplotlibDeprecationWarning: Case-insensitive properties were deprecated in 3.3 and support will be removed two minor releases later\n",
      "  # This is added back by InteractiveShellApp.init_path()\n",
      "/home/dan/.local/lib/python3.6/site-packages/ipykernel_launcher.py:12: MatplotlibDeprecationWarning: Case-insensitive properties were deprecated in 3.3 and support will be removed two minor releases later\n",
      "  if sys.path[0] == '':\n",
      "/home/dan/.local/lib/python3.6/site-packages/ipykernel_launcher.py:13: MatplotlibDeprecationWarning: Case-insensitive properties were deprecated in 3.3 and support will be removed two minor releases later\n",
      "  del sys.path[0]\n",
      "/home/dan/.local/lib/python3.6/site-packages/ipykernel_launcher.py:14: MatplotlibDeprecationWarning: Case-insensitive properties were deprecated in 3.3 and support will be removed two minor releases later\n",
      "  \n",
      "/home/dan/.local/lib/python3.6/site-packages/ipykernel_launcher.py:15: MatplotlibDeprecationWarning: Case-insensitive properties were deprecated in 3.3 and support will be removed two minor releases later\n",
      "  from ipykernel import kernelapp as app\n",
      "/home/dan/.local/lib/python3.6/site-packages/ipykernel_launcher.py:16: MatplotlibDeprecationWarning: Case-insensitive properties were deprecated in 3.3 and support will be removed two minor releases later\n",
      "  app.launch_new_instance()\n",
      "/home/dan/.local/lib/python3.6/site-packages/ipykernel_launcher.py:17: MatplotlibDeprecationWarning: Case-insensitive properties were deprecated in 3.3 and support will be removed two minor releases later\n",
      "/home/dan/.local/lib/python3.6/site-packages/ipykernel_launcher.py:18: MatplotlibDeprecationWarning: Case-insensitive properties were deprecated in 3.3 and support will be removed two minor releases later\n"
     ]
    },
    {
     "data": {
      "image/png": "[encoded data removed]",
      "text/plain": [
       "<Figure size 432x288 with 1 Axes>"
      ]
     },
     "metadata": {
      "needs_background": "light"
     },
     "output_type": "display_data"
    }
   ],
   "source": [
    "# plot the 4 curves:\n",
    "%matplotlib inline\n",
    "\n",
    "fig = plt.figure(figsize=(6, 4))\n",
    "\n",
    "epochs_gd = range(len(objvals_gd))\n",
    "epochs_sgd = range(len(objvals_sgd))\n",
    "epochs_mbsgd8 = range(len(objvals_mbsgd8))\n",
    "epochs_mbsgd64 = range(len(objvals_mbsgd64))\n",
    "\n",
    "line0, = plt.plot(epochs_gd, objvals_gd, '--b', LineWidth=4)\n",
    "line1, = plt.plot(epochs_sgd, objvals_sgd, '-r', LineWidth=2)\n",
    "line2, = plt.plot(epochs_mbsgd8, objvals_mbsgd8, '-g', LineWidth=2)\n",
    "line3, = plt.plot(epochs_mbsgd64, objvals_mbsgd64, '--y', LineWidth = 2)\n",
    "plt.xlabel('Epochs', FontSize=20)\n",
    "plt.ylabel('Objective Value', FontSize=20)\n",
    "plt.xticks(FontSize=16)\n",
    "plt.yticks(FontSize=16)\n",
    "plt.legend([line0, line1, line2, line3], ['GD', 'SGD', 'MB-SGD8', 'MB-SGD64'], fontsize=20)\n",
    "plt.tight_layout()\n",
    "plt.show()\n",
    "fig.savefig('compare_gd_sgd_mbsgd8_mbsgd64.pdf', format='pdf', dpi=1200)"
   ]
  },
  {
   "cell_type": "markdown",
   "metadata": {},
   "source": []
  },
  {
   "cell_type": "code",
   "execution_count": 56,
   "metadata": {},
   "outputs": [
    {
     "name": "stdout",
     "output_type": "stream",
     "text": [
      "Training classification error is 0.21875\n",
      "Test classification error is 0.203125\n"
     ]
    }
   ],
   "source": [
    "# evaluate training error\n",
    "f_train = predict(w, x_train)\n",
    "diff = numpy.abs(f_train - y_train) / 2\n",
    "error_train = numpy.mean(diff)\n",
    "print('Training classification error is ' + str(error_train))\n",
    "\n",
    "# evaluate test error\n",
    "f_test = predict(w, x_test)\n",
    "diff = numpy.abs(f_test - y_test) / 2\n",
    "error_test = numpy.mean(diff)\n",
    "print('Test classification error is ' + str(error_test))"
   ]
  },
  {
   "cell_type": "code",
   "execution_count": null,
   "metadata": {},
   "outputs": [],
   "source": []
  }
 ],
 "metadata": {
  "kernelspec": {
   "display_name": "Python 3",
   "language": "python",
   "name": "python3"
  },
  "language_info": {
   "codemirror_mode": {
    "name": "ipython",
    "version": 3
   },
   "file_extension": ".py",
   "mimetype": "text/x-python",
   "name": "python",
   "nbconvert_exporter": "python",
   "pygments_lexer": "ipython3",
   "version": "3.6.9"
  }
 },
 "nbformat": 4,
 "nbformat_minor": 2
}
